{
 "cells": [
  {
   "cell_type": "code",
   "execution_count": 1,
   "id": "4fcda399",
   "metadata": {},
   "outputs": [],
   "source": [
    "%display latex"
   ]
  },
  {
   "cell_type": "code",
   "execution_count": 2,
   "id": "d3f9c7e8",
   "metadata": {},
   "outputs": [
    {
     "data": {
      "text/html": [
       "<html>\\(\\displaystyle \\left(x, y, z, x_{1}, y_{1}, z_{1}\\right)\\)</html>"
      ],
      "text/latex": [
       "$\\displaystyle \\left(x, y, z, x_{1}, y_{1}, z_{1}\\right)$"
      ],
      "text/plain": [
       "(x, y, z, x_1, y_1, z_1)"
      ]
     },
     "execution_count": 2,
     "metadata": {},
     "output_type": "execute_result"
    }
   ],
   "source": [
    "var('x y z x_1 y_1 z_1')"
   ]
  },
  {
   "cell_type": "code",
   "execution_count": 3,
   "id": "f91c7d04",
   "metadata": {},
   "outputs": [
    {
     "data": {
      "text/html": [
       "<html>\\(\\displaystyle \\left(\\gamma, \\beta, \\eta, c, m, k\\right)\\)</html>"
      ],
      "text/latex": [
       "$\\displaystyle \\left(\\gamma, \\beta, \\eta, c, m, k\\right)$"
      ],
      "text/plain": [
       "(gamma, beta, eta, c, m, k)"
      ]
     },
     "execution_count": 3,
     "metadata": {},
     "output_type": "execute_result"
    }
   ],
   "source": [
    "var('gamma beta eta c m k', domain='positive')"
   ]
  },
  {
   "cell_type": "code",
   "execution_count": 4,
   "id": "9a2fa8cd",
   "metadata": {},
   "outputs": [],
   "source": [
    "p_1 = y + (1-gamma)*eta*z + gamma * eta * z_1"
   ]
  },
  {
   "cell_type": "code",
   "execution_count": 5,
   "id": "68820e86",
   "metadata": {},
   "outputs": [
    {
     "data": {
      "text/html": [
       "<html>\\(\\displaystyle -\\eta {\\left(\\gamma - 1\\right)} z + \\eta \\gamma z_{1} + y\\)</html>"
      ],
      "text/latex": [
       "$\\displaystyle -\\eta {\\left(\\gamma - 1\\right)} z + \\eta \\gamma z_{1} + y$"
      ],
      "text/plain": [
       "-eta*(gamma - 1)*z + eta*gamma*z_1 + y"
      ]
     },
     "execution_count": 5,
     "metadata": {},
     "output_type": "execute_result"
    }
   ],
   "source": [
    "p_1"
   ]
  },
  {
   "cell_type": "code",
   "execution_count": 6,
   "id": "d93d4a1f",
   "metadata": {},
   "outputs": [
    {
     "data": {
      "text/html": [
       "<html>\\(\\displaystyle -\\frac{1}{2} \\, {\\left({\\left(2 \\, \\beta - 1\\right)} z - 2 \\, \\beta z_{1}\\right)} \\eta^{2} + \\eta y + x\\)</html>"
      ],
      "text/latex": [
       "$\\displaystyle -\\frac{1}{2} \\, {\\left({\\left(2 \\, \\beta - 1\\right)} z - 2 \\, \\beta z_{1}\\right)} \\eta^{2} + \\eta y + x$"
      ],
      "text/plain": [
       "-1/2*((2*beta - 1)*z - 2*beta*z_1)*eta^2 + eta*y + x"
      ]
     },
     "execution_count": 6,
     "metadata": {},
     "output_type": "execute_result"
    }
   ],
   "source": [
    "p_2 = x + eta * y + eta^2 / 2 * ((1 - 2*beta)*z + 2*beta*z_1)\n",
    "p_2"
   ]
  },
  {
   "cell_type": "code",
   "execution_count": 7,
   "id": "890a76e0",
   "metadata": {},
   "outputs": [
    {
     "data": {
      "text/html": [
       "<html>\\(\\displaystyle -\\frac{k x_{1} + c y_{1}}{m}\\)</html>"
      ],
      "text/latex": [
       "$\\displaystyle -\\frac{k x_{1} + c y_{1}}{m}$"
      ],
      "text/plain": [
       "-(k*x_1 + c*y_1)/m"
      ]
     },
     "execution_count": 7,
     "metadata": {},
     "output_type": "execute_result"
    }
   ],
   "source": [
    "p_3 = -1 / m * (c * y_1 + k * x_1)\n",
    "p_3"
   ]
  },
  {
   "cell_type": "code",
   "execution_count": 8,
   "id": "7bc58cc1",
   "metadata": {},
   "outputs": [
    {
     "data": {
      "text/html": [
       "<html>\\(\\displaystyle \\frac{2 \\, {\\left(\\eta {\\left(\\gamma - 1\\right)} z - \\eta \\gamma z_{1} - y\\right)} c + {\\left({\\left({\\left(2 \\, \\beta - 1\\right)} z - 2 \\, \\beta z_{1}\\right)} \\eta^{2} - 2 \\, \\eta y - 2 \\, x\\right)} k}{2 \\, m}\\)</html>"
      ],
      "text/latex": [
       "$\\displaystyle \\frac{2 \\, {\\left(\\eta {\\left(\\gamma - 1\\right)} z - \\eta \\gamma z_{1} - y\\right)} c + {\\left({\\left({\\left(2 \\, \\beta - 1\\right)} z - 2 \\, \\beta z_{1}\\right)} \\eta^{2} - 2 \\, \\eta y - 2 \\, x\\right)} k}{2 \\, m}$"
      ],
      "text/plain": [
       "1/2*(2*(eta*(gamma - 1)*z - eta*gamma*z_1 - y)*c + (((2*beta - 1)*z - 2*beta*z_1)*eta^2 - 2*eta*y - 2*x)*k)/m"
      ]
     },
     "execution_count": 8,
     "metadata": {},
     "output_type": "execute_result"
    }
   ],
   "source": [
    "p_3.subs(y_1 == p_1, x_1 == p_2)"
   ]
  },
  {
   "cell_type": "code",
   "execution_count": 9,
   "id": "5e649345",
   "metadata": {},
   "outputs": [
    {
     "data": {
      "text/html": [
       "<html>\\(\\displaystyle z_{1} = -\\frac{2 \\, k x + 2 \\, {\\left(\\eta k + c\\right)} y - {\\left({\\left(2 \\, \\beta - 1\\right)} \\eta^{2} k + 2 \\, c \\eta \\gamma - 2 \\, c \\eta\\right)} z}{2 \\, {\\left(\\beta \\eta^{2} k + c \\eta \\gamma + m\\right)}}\\)</html>"
      ],
      "text/latex": [
       "$\\displaystyle z_{1} = -\\frac{2 \\, k x + 2 \\, {\\left(\\eta k + c\\right)} y - {\\left({\\left(2 \\, \\beta - 1\\right)} \\eta^{2} k + 2 \\, c \\eta \\gamma - 2 \\, c \\eta\\right)} z}{2 \\, {\\left(\\beta \\eta^{2} k + c \\eta \\gamma + m\\right)}}$"
      ],
      "text/plain": [
       "z_1 == -1/2*(2*k*x + 2*(eta*k + c)*y - ((2*beta - 1)*eta^2*k + 2*c*eta*gamma - 2*c*eta)*z)/(beta*eta^2*k + c*eta*gamma + m)"
      ]
     },
     "execution_count": 9,
     "metadata": {},
     "output_type": "execute_result"
    }
   ],
   "source": [
    "q = solve(z_1 == p_3.subs(y_1 == p_1, x_1 == p_2), z_1)[0]\n",
    "q"
   ]
  }
 ],
 "metadata": {
  "kernelspec": {
   "display_name": "SageMath 9.6",
   "language": "sage",
   "name": "sagemath"
  },
  "language_info": {
   "codemirror_mode": {
    "name": "ipython",
    "version": 3
   },
   "file_extension": ".py",
   "mimetype": "text/x-python",
   "name": "python",
   "nbconvert_exporter": "python",
   "pygments_lexer": "ipython3",
   "version": "3.10.5"
  }
 },
 "nbformat": 4,
 "nbformat_minor": 5
}
